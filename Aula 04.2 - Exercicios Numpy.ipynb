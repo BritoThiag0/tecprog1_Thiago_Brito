{
  "cells": [
    {
      "attachments": {},
      "cell_type": "markdown",
      "metadata": {
        "colab_type": "text",
        "id": "view-in-github"
      },
      "source": [
        "<a href=\"https://colab.research.google.com/github/robertosgpontes/tec_prog_1/blob/main/ExerciciosNumpy.ipynb\" target=\"_parent\"><img src=\"https://colab.research.google.com/assets/colab-badge.svg\" alt=\"Open In Colab\"/></a>"
      ]
    },
    {
      "attachments": {},
      "cell_type": "markdown",
      "metadata": {
        "id": "dDhJSUbSE6hI"
      },
      "source": [
        "# Lista de Exercícios de Numpy\n",
        "\n",
        "Módulo 3 - Técnicas de Programação 1\n",
        "\n",
        "Aluno: Thiago Brito Cassimiro da Sivla"
      ]
    },
    {
      "cell_type": "code",
      "execution_count": 7,
      "metadata": {},
      "outputs": [],
      "source": [
        "import numpy as np"
      ]
    },
    {
      "cell_type": "markdown",
      "metadata": {
        "id": "eX5x6-bjE6hN"
      },
      "source": [
        "## Questão 1\n",
        "\n",
        "Crie um array 100 com valores aleatórios e ache os valores máximo e mínimo"
      ]
    },
    {
      "cell_type": "code",
      "execution_count": 8,
      "metadata": {
        "id": "kYKS_ae1E6hP"
      },
      "outputs": [
        {
          "data": {
            "text/plain": [
              "array([266, 126, 997, 528, 321, 370, 124, 157, 986, 734, 497, 926, 882,\n",
              "         9,  74, 257, 491,  41, 503, 421, 372, 529, 357, 240, 396,  55,\n",
              "       345, 364, 123, 575, 546, 201, 869, 975, 690, 692,  55,  78, 454,\n",
              "        14, 756, 410, 383, 654, 861, 343, 799, 671,  90, 653, 322, 544,\n",
              "       826, 805, 284, 531,  94,  78, 407, 920, 607, 761, 396, 669,  75,\n",
              "       217, 394,  16, 531, 465, 631,  72, 345, 396, 658, 431, 136, 716,\n",
              "       797, 802, 469, 763, 865, 473,  45, 646,   5,  72, 345, 857, 819,\n",
              "       365, 183, 291, 361, 784, 462, 857, 656, 135])"
            ]
          },
          "execution_count": 8,
          "metadata": {},
          "output_type": "execute_result"
        }
      ],
      "source": [
        "np.random.seed(10)\n",
        "\n",
        "array1 = np.random.randint(1, 1000, 100)\n",
        "array1"
      ]
    },
    {
      "cell_type": "code",
      "execution_count": 9,
      "metadata": {},
      "outputs": [
        {
          "name": "stdout",
          "output_type": "stream",
          "text": [
            "O valor mínimo no array1 é de 5\n",
            "O valor mínimo no array1 é de 997\n"
          ]
        }
      ],
      "source": [
        "print(f\"O valor mínimo no array1 é de {array1.min()}\")\n",
        "print(f\"O valor mínimo no array1 é de {array1.max()}\")"
      ]
    },
    {
      "attachments": {},
      "cell_type": "markdown",
      "metadata": {
        "id": "qT9pSHp4E6hQ"
      },
      "source": [
        "## Questão 2\n",
        "Em Geometria Analítica, um **vetor** é uma quantidade que pode ser definida por um énuplo (uma sequência ordenada de *n* elementos) em que cada elemento representa a intensidade do vetor na direção especificada pela i-ésima componente desta sequência. \n",
        "\n",
        "Quando pensamos em duas dimensões, por exemplo, o vetor $R = (b,a)$ define, geometricamente, a entidade representada na figura abaixo, com componentes nos eixos x e y usuais.\n",
        "\n",
        "<img src = \"https://static.todamateria.com.br/upload/im/ag/image-721.jpg?auto_optimize=low\" />\n",
        "\n",
        "O **módulo** deste vetor, também chamado de intensidade, está geometricamente relacionado ao seu comprimento, e pode ser calculado diretamente pelas suas componentes, por meio de uma operação conhecida como **produto escalar** do vetor com ele mesmo. O módulo quadrático é expresso, desta forma, por:\n",
        "\n",
        "$|A|^2 = \\vec{A} \\cdot \\vec{A}$\n",
        "\n",
        "Por outro lado, o produto escalar entre dois vetores $A = (a_{x}, a_{y})$ e $B = (b_{x}, b_{y})$ é dado por:\n",
        "\n",
        "$\\vec{A} \\cdot \\vec{B} = a_{x} \\times b_{x} + a_{y} \\times b_{y}$ (e esta definição vale para qualquer que seja a dimensão do vetor).\n",
        "\n",
        "O módulo quadrático de um vetor é, portanto:\n",
        "\n",
        "$|A|² = a_{x}^2 + b_{x}^2$."
      ]
    },
    {
      "cell_type": "markdown",
      "metadata": {
        "id": "-ZU6W86sE6hT"
      },
      "source": [
        "Dado o exposto acima, escreva uma função que retorne o módulo de um vetor n-dimensional qualquer."
      ]
    },
    {
      "cell_type": "code",
      "execution_count": 10,
      "metadata": {
        "id": "PdKKKvShE6hT"
      },
      "outputs": [],
      "source": [
        "def moduloVetorial(array):\n",
        "    somatorioProduto = 0\n",
        "    for componente in array:\n",
        "        somatorioProduto += (componente ** 2)\n",
        "    \n",
        "    modulo = (somatorioProduto ** (1 / 2))\n",
        "    \n",
        "    return modulo"
      ]
    },
    {
      "cell_type": "markdown",
      "metadata": {
        "id": "CRZdfzLgE6hU"
      },
      "source": [
        "## Questão 3\n",
        "\n",
        "Em uma **análise de regressão**, usualmente estamos interessados em descrever relações entre variáveis de um dado conjunto de dados por meio de uma **função** que descreva, o tanto quanto possível, estas relações.\n",
        "\n",
        "Por exemplo, no gráfico abaixo, os pontos vermelhos relacionam as medidas das duas variáveis sendo avaliadas (nos eixos x e y); e a linha azul aproxima a relação entre elas por uma função linear."
      ]
    },
    {
      "cell_type": "markdown",
      "metadata": {
        "id": "180Vp7AZE6hV"
      },
      "source": [
        "![Normdist_regression.png](https://miro.medium.com/v2/resize:fit:786/format:webp/1*LEmBCYAttxS6uI6rEyPLMQ.png)"
      ]
    },
    {
      "cell_type": "markdown",
      "metadata": {
        "id": "oQ1RFXOAE6hV"
      },
      "source": [
        "É possível ver que nem todos os pontos obedecem exatamente à relação ditada pela reta (isto é, há pontos que não estão exatamente \"sobre a reta\"; mas, sim, ligeraimente acima, ou abaixo, dela). Isto, contudo, é esperado em um modelo de regressão, por inúmeras fontes de incerteza associadas às medições."
      ]
    },
    {
      "cell_type": "markdown",
      "metadata": {
        "id": "XGWoc_O2E6hW"
      },
      "source": [
        "Uma das métricas que utilizamos para avaliar a qualidade de uma regressão é o **erro quadrático médio (EQM)**, que mensura a diferença total entre cada predição da regressão ($y_{prediction}$; que no nosso caso seriam os valores de y para a reta azul) com o valor real de cada i-ésima medida ($y_{i}$; que no nosso caso seriam as coordenadas y para cada ponto vermelho do gráfico). O EQM pode ser definido como:"
      ]
    },
    {
      "cell_type": "markdown",
      "metadata": {
        "id": "CjgOdTD6E6hX"
      },
      "source": [
        "$EQM = \\frac{1}{n}\\sum_{i=1}^{n}(y_{prediction} - y_{i})^2$."
      ]
    },
    {
      "cell_type": "markdown",
      "metadata": {
        "id": "qeXCrbmbE6hY"
      },
      "source": [
        "Isto posto, escreva uma função que calcule o EQM recebendo, como entrada, os vetores $y_{prediction}$ e $y_{i}$. Por exemplo, digamos que sua função se chame *calculate_eqm*, ela deve operar da seguinte forma:"
      ]
    },
    {
      "attachments": {},
      "cell_type": "markdown",
      "metadata": {},
      "source": [
        "```python\n",
        "\n",
        "# dados dois arrays quaisquer de mesmo tamanho, a função deve retornar o EQM\n",
        "y_prediction = np.array([1,2,3])\n",
        "y_i = np.array([0,0,3])\n",
        "calculate_eqm(y_prediction,y_i)\n",
        "\n",
        ">>> 1.6666666666666665\n",
        "\n",
        "```"
      ]
    },
    {
      "cell_type": "code",
      "execution_count": 21,
      "metadata": {
        "id": "bwiTGuuoE6hb"
      },
      "outputs": [],
      "source": [
        "# Solução\n",
        "def calcularEQM(yPredito, yReal):\n",
        "    arraySomatorio = np.add(yPredito, -yReal) # Diferença entre os arrays\n",
        "    arraySomQuad = np.dot(arraySomatorio, arraySomatorio) # Realização da potenciação escalar a1 com b1, a2 com b2...\n",
        "    arraySoma = np.sum(arraySomQuad)\n",
        "\n",
        "    erroQuadMertico = (arraySoma / np.size(arraySomatorio))\n",
        "    \n",
        "    return erroQuadMertico\n"
      ]
    },
    {
      "cell_type": "code",
      "execution_count": 24,
      "metadata": {},
      "outputs": [
        {
          "data": {
            "text/plain": [
              "1.6666666666666667"
            ]
          },
          "execution_count": 24,
          "metadata": {},
          "output_type": "execute_result"
        }
      ],
      "source": [
        "# Validando com o exemplo dado\n",
        "y_prediction = np.array([1,2,3])\n",
        "y_i = np.array([0,0,3])\n",
        "calcularEQM(y_prediction,y_i)"
      ]
    },
    {
      "cell_type": "markdown",
      "metadata": {
        "id": "Wh0_a8PjE6hc"
      },
      "source": [
        "## Questão 4\n",
        "\n",
        "Crie um array 2D (bidimensional) com 1 na borda e 0 dentro"
      ]
    },
    {
      "cell_type": "code",
      "execution_count": 35,
      "metadata": {},
      "outputs": [
        {
          "data": {
            "text/plain": [
              "array([[1., 1., 1., 1., 1., 1., 1., 1.],\n",
              "       [1., 0., 0., 0., 0., 0., 0., 1.],\n",
              "       [1., 0., 0., 0., 0., 0., 0., 1.],\n",
              "       [1., 0., 0., 0., 0., 0., 0., 1.],\n",
              "       [1., 0., 0., 0., 0., 0., 0., 1.],\n",
              "       [1., 0., 0., 0., 0., 0., 0., 1.],\n",
              "       [1., 0., 0., 0., 0., 0., 0., 1.],\n",
              "       [1., 1., 1., 1., 1., 1., 1., 1.]])"
            ]
          },
          "execution_count": 35,
          "metadata": {},
          "output_type": "execute_result"
        }
      ],
      "source": [
        "def borda1meio0(linhas, colunas):\n",
        "    array2d = np.zeros((linhas, colunas))\n",
        "\n",
        "    array2d[:, 0] = 1\n",
        "    array2d[:, -1] = 1\n",
        "    array2d[0, :] = 1\n",
        "    array2d[-1, :] = 1\n",
        "\n",
        "    return array2d\n",
        "\n",
        "borda1meio0(8, 8)\n"
      ]
    },
    {
      "cell_type": "markdown",
      "metadata": {
        "id": "U1CntgkZE6hc"
      },
      "source": [
        "## Questão 5\n",
        "\n",
        "Como adicionar uma borda de 0's ao redor de um array 2D (bidimensional) existente"
      ]
    },
    {
      "cell_type": "code",
      "execution_count": 39,
      "metadata": {},
      "outputs": [
        {
          "data": {
            "text/plain": [
              "array([[0., 0., 0., 0., 0., 0., 0., 0.],\n",
              "       [0., 1., 1., 1., 1., 1., 1., 0.],\n",
              "       [0., 1., 1., 1., 1., 1., 1., 0.],\n",
              "       [0., 1., 1., 1., 1., 1., 1., 0.],\n",
              "       [0., 1., 1., 1., 1., 1., 1., 0.],\n",
              "       [0., 1., 1., 1., 1., 1., 1., 0.],\n",
              "       [0., 1., 1., 1., 1., 1., 1., 0.],\n",
              "       [0., 0., 0., 0., 0., 0., 0., 0.]])"
            ]
          },
          "execution_count": 39,
          "metadata": {},
          "output_type": "execute_result"
        }
      ],
      "source": [
        "def borda0(array):\n",
        "    array[:, 0] = 0\n",
        "    array[:, -1] = 0\n",
        "    array[0, :] = 0\n",
        "    array[-1, :] = 0\n",
        "\n",
        "    return array\n",
        "\n",
        "arr = np.ones((8,8))\n",
        "borda0(arr)"
      ]
    },
    {
      "cell_type": "markdown",
      "metadata": {
        "id": "qHh149eAE6hd"
      },
      "source": [
        "## Questão 6\n",
        "\n",
        " A eletroencefalografia (EEG) é uma técnica que mensura potenciais elétricos cerebrais em diversas regiões do escalpo do paciente. Suponha que você recebeu um conjunto de dados na forma de uma matriz de 64 x 512 elementos, em que cada linha contém o sinal gravado em um dos **eletrodos** espalhados pelo escalpo em um exame de EEG, e cada coluna contém um valor de potencial elétrico, em microvolts. "
      ]
    },
    {
      "cell_type": "markdown",
      "metadata": {
        "id": "BRDY8u09E6hd"
      },
      "source": [
        "Como o sinal de EEG é muito suscetível a ruídos externos (interferências na qualidade do sinal), uma operação comum para atenuar a interferência no sinal consiste em tirar a média do potencial elétrico de todos os eletrodos, e subtrair este valor de cada um deles. Isto atenua fontes de ruído ao sinal comuns a todos os eletrodos. Em termos matemáticos, o sinal processado por esta operação, $X_{e,i}$ para cada eletrodo (e) e amostra (i), é dado por:"
      ]
    },
    {
      "cell_type": "markdown",
      "metadata": {
        "id": "NHLeT5deE6he"
      },
      "source": [
        "$X_{e,i} = \\hat{X_{e,i}} - \\frac{1}{N}\\sum_{e=1}^{N}\\hat{X_{e,i}}$,\n",
        "\n",
        "em que $\\hat{X_{e,i}}$ representa o sinal original (ou seja, é a matriz de entrada de 64 x 512 elementos), e $N$ indica o total de eletrodos."
      ]
    },
    {
      "cell_type": "markdown",
      "metadata": {
        "id": "ToiE-omdE6he"
      },
      "source": [
        "Com o exposto acima, escreva uma função que retorne uma matriz com os sinais de EEG processados conforme a operação mencionada. Sua função deve operar conforme o exemplo abaixo."
      ]
    },
    {
      "attachments": {},
      "cell_type": "markdown",
      "metadata": {},
      "source": [
        "```python\n",
        "\n",
        "# vamos supor uma matriz de entrada gerada por dados aleatórios\n",
        "X = np.random.randn(64,512)\n",
        "X.shape # apenas para verificar as dimensões\n",
        ">>> (64, 512)\n",
        "\n",
        "# a função deve executar a operação equacionada anteriormente, retornando uma nova matriz\n",
        "X_processado = process_EEG_signal(X)\n",
        "X_processado.shape\n",
        ">>> (64, 512)\n",
        "\n",
        "# Somando as diferenças entre cada elemento das duas matrizes, apenas para ilustrar que elas não são iguais\n",
        "(X_processado - X).sum()\n",
        ">>> -53.08727366483029\n",
        "\n",
        "# Visualizando as matrizes, para verificar uma vez mais que, de fato, os elementos são diferentes\n",
        "X\n",
        ">>> array([[ 0.29305925,  0.89663038, -0.61032202, ..., -0.88086364,\n",
        "        -0.8818789 ,  0.51260497],\n",
        "       [-0.01274415,  1.05439522,  0.47958092, ..., -2.15387924,\n",
        "         0.70721168,  0.97029889],\n",
        "       [ 1.09478371, -0.16120847,  1.58400361, ...,  0.20981813,\n",
        "         2.17373837,  0.94032162],\n",
        "       ...,\n",
        "       [-0.45294842, -2.28939505,  1.10111998, ...,  1.63581703,\n",
        "        -0.39394924, -1.13400723],\n",
        "       [-0.22669886,  0.25413429, -1.17870637, ..., -0.09509442,\n",
        "         0.90733806,  0.37999411],\n",
        "       [ 0.15476933, -0.03654717, -1.09982762, ...,  0.67600047,\n",
        "        -0.84533328, -0.56433144]])\n",
        "\n",
        "# Matriz após o processamento descrito no enunciado\n",
        "X_processado\n",
        "\n",
        ">>> array([[ 0.36713022,  0.85772513, -0.54902169, ..., -0.85626087,\n",
        "        -0.97611435,  0.51718998],\n",
        "       [ 0.06132682,  1.01548997,  0.54088126, ..., -2.12927647,\n",
        "         0.61297623,  0.97488389],\n",
        "       [ 1.16885469, -0.20011372,  1.64530394, ...,  0.23442091,\n",
        "         2.07950292,  0.94490663],\n",
        "       ...,\n",
        "       [-0.37887744, -2.3283003 ,  1.16242031, ...,  1.6604198 ,\n",
        "        -0.4881847 , -1.12942223],\n",
        "       [-0.15262788,  0.21522904, -1.11740604, ..., -0.07049164,\n",
        "         0.81310261,  0.38457911],\n",
        "       [ 0.22884031, -0.07545242, -1.03852729, ...,  0.70060324,\n",
        "        -0.93956874, -0.55974643]])\n",
        "\n",
        "```"
      ]
    },
    {
      "cell_type": "code",
      "execution_count": 50,
      "metadata": {
        "id": "OlxjvCnQE6hj"
      },
      "outputs": [
        {
          "data": {
            "text/plain": [
              "array([[ 0.27329291,  0.06779251, -0.80245022, ..., -1.17957951,\n",
              "         0.18266156, -0.49205569],\n",
              "       [-1.43709653,  1.91156475, -0.8079404 , ...,  1.08591419,\n",
              "         1.97036688,  1.09701099],\n",
              "       [-0.05721325,  0.68636022,  1.18805356, ..., -0.06103531,\n",
              "        -0.77365166,  1.03734636],\n",
              "       ...,\n",
              "       [-1.07849518,  0.25463605,  0.91548286, ...,  0.50175492,\n",
              "         0.9696971 ,  0.61875622],\n",
              "       [ 0.45586693,  1.46558772,  0.52556042, ..., -0.58803526,\n",
              "        -0.7011507 ,  0.72468255],\n",
              "       [ 0.28684032,  1.1895487 , -1.47861756, ...,  0.18026189,\n",
              "         0.01055144, -0.19647248]])"
            ]
          },
          "execution_count": 50,
          "metadata": {},
          "output_type": "execute_result"
        }
      ],
      "source": [
        "# Solução\n",
        "def eegProcessado(eegSinal):\n",
        "    somatoriaMedia = (eegSinal.sum() / eegSinal.size)\n",
        "    valorProcessado = eegSinal - somatoriaMedia\n",
        "\n",
        "    return valorProcessado\n",
        "\n",
        "X = np.random.randn(64,512)\n",
        "d = eegProcessado(X)\n",
        "d\n",
        "# print(X.shape)\n",
        "# print(d.shape)"
      ]
    },
    {
      "attachments": {},
      "cell_type": "markdown",
      "metadata": {
        "id": "7Gy6nTwQE6hj"
      },
      "source": [
        "## Questão 7\n",
        "\n",
        "Em estatística, um **outlier** é um valor que destoa consideravelmente da distribuição à qual está associado. Um dos critérios para idenficar outliers consiste em encontrar a **distância interquantil** (IQR), ou seja, a diferença entre o terceiro (Q3) e o primeiro quartis (Q1) da distribuição, e tomar como outliers todos os pontos abaixo do Limite Inferior (LI = Q1 - 1.5*IQR  ), ou acima do Limite Superior (LS = Q3 + 1.5*IQR)."
      ]
    },
    {
      "attachments": {},
      "cell_type": "markdown",
      "metadata": {},
      "source": [
        "![image.png](https://s3-sa-east-1.amazonaws.com/lcpi/0d8a7b04-b982-4e6b-9fc7-fbb062247d8d.png)\n"
      ]
    },
    {
      "cell_type": "markdown",
      "metadata": {
        "id": "CP-NkMHTE6hk"
      },
      "source": [
        "<img src = \"https://blog.curso-r.com/images/posts/banner/outlier.webp\" />"
      ]
    },
    {
      "cell_type": "markdown",
      "metadata": {
        "id": "BLDJN5JPE6hk"
      },
      "source": [
        "Escreva uma função que, dada uma matriz de dados de entrada de dimensões $N_{observações} \\times N_{features}$ retorne três requisitos: \n",
        "- uma matriz booleana indicando a existência de outliers nos dados de entrada;\n",
        "- a quantidade de outliers\n",
        "- quem são os outliers (os valores)."
      ]
    },
    {
      "cell_type": "markdown",
      "metadata": {
        "id": "wwVcP2uZE6hl"
      },
      "source": [
        "**Algumas definições:**\n",
        "- um *quantil* divide a distribuição, após ordenados os pontos, segundo algum ponto de corte;\n",
        "- o **primeiro quartil** é o ponto para o qual 25 % dos valores da distribuição estão abaixo dele;\n",
        "- o **terceiro quartil** é o ponto para o qual 75 % dos valores da distribuição estão abaixo dele.\n",
        "\n",
        "Pode ser útil consultar a função **numpy.quantile**."
      ]
    },
    {
      "cell_type": "markdown",
      "metadata": {
        "id": "C9nCKXhjE6hm"
      },
      "source": [
        "Exemplo de operação da função:"
      ]
    },
    {
      "attachments": {},
      "cell_type": "markdown",
      "metadata": {},
      "source": [
        "```python\n",
        "# Geremos um conjunto de dados qualquer\n",
        "X = np.random.randn(300,15)\n",
        "X\n",
        "\n",
        ">>> array([[-2.02108952,  0.57945921, -2.23074965, ..., -0.60349514,\n",
        "         0.92180452, -0.15625722],\n",
        "       [ 0.24904397,  0.03493447,  0.3515052 , ..., -0.46950081,\n",
        "         0.20361331,  0.02715956],\n",
        "       [ 0.55902525, -0.48435434,  0.90413414, ..., -0.54425743,\n",
        "        -0.80769134, -0.07912549],\n",
        "       ...,\n",
        "       [-1.04069388, -0.24245725, -2.00308877, ...,  0.4084777 ,\n",
        "        -1.81516131,  0.39063118],\n",
        "       [-1.39275097,  0.3989636 ,  0.2926223 , ...,  1.2620666 ,\n",
        "         0.72262949,  1.50737559],\n",
        "       [ 0.15922011, -0.79810788, -1.60939896, ..., -0.08214499,\n",
        "        -0.13167475,  0.15990558]])\n",
        "\n",
        "\n",
        "# identificamos os requisitos com nossa com nossa função \"locate_outliers\"\n",
        "is_outlier, outliers_count, outliers = locate_outliers(X)\n",
        "\n",
        "is_outlier\n",
        ">>> array([[False, False, False, ..., False, False, False],\n",
        "       [False, False, False, ..., False, False, False],\n",
        "       [False, False, False, ..., False, False, False],\n",
        "       ...,\n",
        "       [False, False, False, ..., False, False, False],\n",
        "       [False, False, False, ..., False, False, False],\n",
        "       [False, False, False, ..., False, False, False]])\n",
        "\n",
        "outliers_count\n",
        ">>> 44\n",
        "\n",
        "outliers\n",
        ">>> array([-2.67240384,  3.00270904,  3.62317101,  3.18867865,  2.55581522,\n",
        "       -2.82091429,  2.8757892 ,  2.70666036,  3.19514999, -3.40550318,\n",
        "       -3.39825827,  2.6727295 ,  2.54498296, -2.69447104,  3.19521603,\n",
        "        2.66372172, -2.77444948,  2.77421152,  2.69992869, -2.84831109,\n",
        "       -2.83695779, -2.45908227,  3.07802106,  2.89314015, -2.68574682,\n",
        "       -2.85019494,  2.43399574,  2.44291266, -2.92595937, -2.95911074,\n",
        "       -3.03966003,  2.77543068, -2.67368414, -2.79965402, -3.0501958 ,\n",
        "       -2.5437387 ,  3.08550649, -3.17666255, -3.05795476, -3.09826467,\n",
        "        3.1399469 ,  3.18141942,  2.90564257, -2.89505054])\n",
        "\n",
        " ``` "
      ]
    },
    {
      "cell_type": "code",
      "execution_count": 51,
      "metadata": {
        "id": "AdTkst5UE6hq"
      },
      "outputs": [],
      "source": [
        "# Solução\n",
        "def buscandoOutliers(array):\n",
        "    quartil1 = np.quantile(array,.25, axis=0)\n",
        "    quartil3 = np.quantile(array,.75, axis=0)\n",
        "    \n",
        "    distInterQuartil = quartil3 - quartil1\n",
        "\n",
        "    matrizBool = ((array < (quartil1 - distInterQuartil.dot(1.5)))) | (array > (quartil3 + distInterQuartil.dot(1.5)))\n",
        "    contagemOutliers = (array[matrizBool]).size\n",
        "    outliers = array[matrizBool]\n",
        "    return (matrizBool, contagemOutliers, outliers)"
      ]
    },
    {
      "cell_type": "markdown",
      "metadata": {
        "id": "upNDn96PE6hq"
      },
      "source": [
        "## Questão 8\n",
        "\n",
        "Crie um vetor com valores que vão de 1 até 21 de dois em dois, a partir da função arange"
      ]
    },
    {
      "cell_type": "code",
      "execution_count": 52,
      "metadata": {
        "id": "w4d14JRZE6hr"
      },
      "outputs": [
        {
          "data": {
            "text/plain": [
              "array([ 1,  3,  5,  7,  9, 11, 13, 15, 17, 19])"
            ]
          },
          "execution_count": 52,
          "metadata": {},
          "output_type": "execute_result"
        }
      ],
      "source": [
        "array8 = np.arange(1, 21, 2)\n",
        "array8"
      ]
    },
    {
      "cell_type": "markdown",
      "metadata": {
        "id": "SchEY1O7E6hr"
      },
      "source": [
        "## Questão 9\n",
        "\n",
        "Crie um array de 10 com valores aleatórios"
      ]
    },
    {
      "cell_type": "code",
      "execution_count": 53,
      "metadata": {
        "id": "MYpySePjE6hs"
      },
      "outputs": [
        {
          "data": {
            "text/plain": [
              "array([20, 10, 12, 14, 19, 16,  7, 16,  5,  9])"
            ]
          },
          "execution_count": 53,
          "metadata": {},
          "output_type": "execute_result"
        }
      ],
      "source": [
        "array9 = np.random.randint(1, 21, 10)\n",
        "array9"
      ]
    },
    {
      "cell_type": "markdown",
      "metadata": {
        "id": "EFfvM6LIAlfJ"
      },
      "source": [
        "## Questão 10\n",
        "\n",
        "Em estatística, a normalização de uma distribuição de dados pode ser feita subtraindo o valor médio da distribuição de cada valor do conjunto de dados, dividindo o resultado pelo desvio-padrão da distribuição. Escreva uma função que normalize os dados recebidos por um array numpy qualquer, conforme descrito anteriormente."
      ]
    },
    {
      "cell_type": "code",
      "execution_count": 55,
      "metadata": {
        "id": "yfho2bziAlfJ"
      },
      "outputs": [],
      "source": [
        "def normalizacao(array):\n",
        "    desvioPadrao = array.std()\n",
        "    media = array.mean()\n",
        "    diferenca = array - media\n",
        "\n",
        "    arrayNormalizado = diferenca.dot(1 / desvioPadrao)\n",
        "\n",
        "    return arrayNormalizado"
      ]
    },
    {
      "cell_type": "markdown",
      "metadata": {
        "id": "p60_N7ZwAlfK"
      },
      "source": [
        "## Questão 11\n",
        "\n",
        "Escreva uma função em numpy que receba um array contendo notas de uma turma de 100 estudantes. Considere que a nota de aprovação da turma é 5.0. A função deve retornar, em um array numpy, nesta ordem:\n",
        "- a média e o desvio-padrão das notas da turma;\n",
        "- o número de notas maiores que 7.0;\n",
        "- o número de reprovações da turma;\n",
        "- a menor nota da turma;\n",
        "- a maior nota da turma."
      ]
    },
    {
      "cell_type": "code",
      "execution_count": 58,
      "metadata": {
        "id": "Q3wkBCFtAlfK"
      },
      "outputs": [
        {
          "data": {
            "text/plain": [
              "array([12.8       ,  4.79165942,  8.        ,  0.        ,  5.        ,\n",
              "       20.        ])"
            ]
          },
          "execution_count": 58,
          "metadata": {},
          "output_type": "execute_result"
        }
      ],
      "source": [
        "def resultadoTurma(array):\n",
        "    media = array.mean()\n",
        "    desvioPadrao = array.std()\n",
        "    qtdNotasMaiores7 = (array[array>7]).size\n",
        "    qtdReprovados = (array[array<5]).size\n",
        "    menorNota = array.min()\n",
        "    maiorNota = array.max()\n",
        "    \n",
        "    return np.array([media, desvioPadrao, qtdNotasMaiores7, qtdReprovados, menorNota, maiorNota])\n",
        "\n",
        "resultadoTurma(array9)"
      ]
    }
  ],
  "metadata": {
    "colab": {
      "include_colab_link": true,
      "provenance": []
    },
    "kernelspec": {
      "display_name": "base",
      "language": "python",
      "name": "python3"
    },
    "language_info": {
      "codemirror_mode": {
        "name": "ipython",
        "version": 3
      },
      "file_extension": ".py",
      "mimetype": "text/x-python",
      "name": "python",
      "nbconvert_exporter": "python",
      "pygments_lexer": "ipython3",
      "version": "3.9.16"
    },
    "orig_nbformat": 4,
    "vscode": {
      "interpreter": {
        "hash": "83e92b1f3f21fdb4659571439a9645cff8fd2717e8d35e987f7eae31f7f6dd34"
      }
    }
  },
  "nbformat": 4,
  "nbformat_minor": 0
}
